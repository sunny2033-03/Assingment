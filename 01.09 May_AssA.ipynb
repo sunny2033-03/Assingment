{
 "cells": [
  {
   "attachments": {},
   "cell_type": "markdown",
   "metadata": {},
   "source": [
    "* Q1"
   ]
  },
  {
   "cell_type": "code",
   "execution_count": 4,
   "metadata": {},
   "outputs": [],
   "source": [
    "#(i)\n",
    "a= 'sunny'"
   ]
  },
  {
   "cell_type": "code",
   "execution_count": 5,
   "metadata": {},
   "outputs": [],
   "source": [
    "#(ii)\n",
    "l=[1,2,3,'a',2.23]"
   ]
  },
  {
   "cell_type": "code",
   "execution_count": 6,
   "metadata": {},
   "outputs": [],
   "source": [
    "#(iii)\n",
    "b= 2.584"
   ]
  },
  {
   "cell_type": "code",
   "execution_count": 7,
   "metadata": {},
   "outputs": [],
   "source": [
    "#(iv)\n",
    "t= ('a','b',1,2,5)"
   ]
  },
  {
   "attachments": {},
   "cell_type": "markdown",
   "metadata": {},
   "source": [
    "* Q2"
   ]
  },
  {
   "cell_type": "code",
   "execution_count": 8,
   "metadata": {},
   "outputs": [],
   "source": [
    "# Answers-\n",
    "# (i)\tvar1 = ‘ ‘\n",
    "        # Answer: String\n",
    "\n",
    "# (ii)\tvar2 = ‘[ DS , ML , Python]’\n",
    "        # Answer: Invalid datatype of python\n",
    " \n",
    "# (iii)\tvar3 = [ ‘DS’ , ’ML’ , ‘Python’ ]\n",
    "        # Answer: List\n",
    " \n",
    "# (iv)\tvar4 = 1.\n",
    "        # Answer: Float\n",
    "\n"
   ]
  },
  {
   "attachments": {},
   "cell_type": "markdown",
   "metadata": {},
   "source": [
    "* Q3"
   ]
  },
  {
   "cell_type": "code",
   "execution_count": 9,
   "metadata": {},
   "outputs": [
    {
     "data": {
      "text/plain": [
       "2.0"
      ]
     },
     "execution_count": 9,
     "metadata": {},
     "output_type": "execute_result"
    }
   ],
   "source": [
    "#(i) Answer: '/' denotes division operators, generally used for division of integer and float type data.\n",
    "# e.g\n",
    "8/4\n",
    "\n"
   ]
  },
  {
   "cell_type": "code",
   "execution_count": 10,
   "metadata": {},
   "outputs": [
    {
     "data": {
      "text/plain": [
       "1"
      ]
     },
     "execution_count": 10,
     "metadata": {},
     "output_type": "execute_result"
    }
   ],
   "source": [
    "#(ii) Answer: '%' denotes modulus operator and used to find remainder of integer and float type data.\n",
    "#e.g\n",
    "9%4"
   ]
  },
  {
   "cell_type": "code",
   "execution_count": 11,
   "metadata": {},
   "outputs": [
    {
     "data": {
      "text/plain": [
       "7"
      ]
     },
     "execution_count": 11,
     "metadata": {},
     "output_type": "execute_result"
    }
   ],
   "source": [
    "#(iii) Answer: '//' denotes floor division operator, it rounds the result down to the nearest whole number\n",
    "#e.g\n",
    "30//4"
   ]
  },
  {
   "cell_type": "code",
   "execution_count": 12,
   "metadata": {},
   "outputs": [
    {
     "data": {
      "text/plain": [
       "32"
      ]
     },
     "execution_count": 12,
     "metadata": {},
     "output_type": "execute_result"
    }
   ],
   "source": [
    "#(iv) Answer: '**' denotes exponential operator and it works as power of any number\n",
    "#e.g: 2**5=32 here 2*2*2*2*2=32\n",
    "2**5"
   ]
  },
  {
   "attachments": {},
   "cell_type": "markdown",
   "metadata": {},
   "source": [
    "* Q4"
   ]
  },
  {
   "cell_type": "code",
   "execution_count": 13,
   "metadata": {},
   "outputs": [
    {
     "name": "stdout",
     "output_type": "stream",
     "text": [
      "<class 'int'>\n",
      "<class 'float'>\n",
      "<class 'complex'>\n",
      "<class 'range'>\n",
      "<class 'bool'>\n",
      "<class 'bool'>\n",
      "<class 'str'>\n",
      "<class 'NoneType'>\n",
      "<class 'set'>\n",
      "<class 'dict'>\n",
      "length of the list is 10\n"
     ]
    }
   ],
   "source": [
    "# Answer:\n",
    "l1= [1,2.22,5+9j,range(15),True,False,'zoology',None,{'a','b'},{'a':'apple','b':'ball'}]\n",
    "for i in l1:\n",
    "    print(type(i))\n",
    "print('length of the list is',(len(l1)))  "
   ]
  },
  {
   "attachments": {},
   "cell_type": "markdown",
   "metadata": {},
   "source": [
    "* Q5"
   ]
  },
  {
   "cell_type": "code",
   "execution_count": 14,
   "metadata": {},
   "outputs": [
    {
     "name": "stdout",
     "output_type": "stream",
     "text": [
      "number is purely divisible\n",
      "The number 512 is purely divisible upto 9 times by 2\n"
     ]
    }
   ],
   "source": [
    "#Answer:\n",
    "a=int(input('enter A='))\n",
    "b=int(input('enter B='))\n",
    "c=a%b\n",
    "c=int(c)\n",
    "d=0\n",
    "c1=int(a/b)\n",
    "if c==0:\n",
    "    d=d+1\n",
    "    print('number is purely divisible')\n",
    "    while c1%b==0:\n",
    "            d=d+1 \n",
    "            c1=int(c1/b)\n",
    "    print('The number',a,'is purely divisible upto',d,'times by',b)\n",
    "\n",
    "else:\n",
    "    print('number is not purely divisible')\n"
   ]
  },
  {
   "attachments": {},
   "cell_type": "markdown",
   "metadata": {},
   "source": [
    "* Q6"
   ]
  },
  {
   "cell_type": "code",
   "execution_count": null,
   "metadata": {},
   "outputs": [],
   "source": [
    "#Answer:\n",
    "ls=[1,2,3,4,5,6,7,8,9,10,11,12,13,14,15,16,17,18,19,20,21,22,23,24,25]\n",
    "for i in ls:\n",
    "    if i%3==0:\n",
    "        print(i,'is divisible by 3')\n",
    "    else:\n",
    "        print(i,'is not divisible by 3')"
   ]
  },
  {
   "attachments": {},
   "cell_type": "markdown",
   "metadata": {},
   "source": [
    "* Q7"
   ]
  },
  {
   "cell_type": "code",
   "execution_count": 16,
   "metadata": {},
   "outputs": [
    {
     "data": {
      "text/plain": [
       "\"\\nAnswer: \\n        Mutable data type: The data type which allows to change it's internal state after being created. e.g.  Lists, Dicts, Sets, Dictionaries.\\n        Immutable data type: The data type which does not allow to change it's internal state after being created. e.g Numbers (Integer, Float, Complex & Booleans),\\n                             Strings, Tuples, Frozen Sets.\\n\""
      ]
     },
     "execution_count": 16,
     "metadata": {},
     "output_type": "execute_result"
    }
   ],
   "source": [
    "'''\n",
    "Answer: \n",
    "        Mutable data type: The data type which allows to change it's internal state after being created. e.g.  Lists, Dicts, Sets, Dictionaries.\n",
    "        Immutable data type: The data type which does not allow to change it's internal state after being created. e.g Numbers (Integer, Float, Complex & Booleans),\n",
    "                             Strings, Tuples, Frozen Sets.\n",
    "'''                             "
   ]
  }
 ],
 "metadata": {
  "kernelspec": {
   "display_name": "Python 3",
   "language": "python",
   "name": "python3"
  },
  "language_info": {
   "codemirror_mode": {
    "name": "ipython",
    "version": 3
   },
   "file_extension": ".py",
   "mimetype": "text/x-python",
   "name": "python",
   "nbconvert_exporter": "python",
   "pygments_lexer": "ipython3",
   "version": "3.11.3"
  },
  "orig_nbformat": 4
 },
 "nbformat": 4,
 "nbformat_minor": 2
}
