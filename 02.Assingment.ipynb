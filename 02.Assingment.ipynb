{
 "cells": [
  {
   "cell_type": "markdown",
   "id": "41274d55-ff9d-44ba-9da7-14c98cf0a118",
   "metadata": {},
   "source": [
    "* Q1:-"
   ]
  },
  {
   "cell_type": "markdown",
   "id": "c8a4da0b-0805-4d53-98d3-7f4ba6f4cecd",
   "metadata": {},
   "source": [
    "Answer : A comment is a part of the coding file that the programmer does not want to execute, rather the programmer uses it to either explain a block of code or to avoid the execution of a specific part of code while testing. Generally comments are of two types-  \n",
    "       Single-Line Comments: To write a comment just add a ‘#’ at the start of the line.     \n",
    "       Multi-Line Comments: To write multi-line comments you can use ‘#’ at each line or you can use the multiline string."
   ]
  },
  {
   "cell_type": "markdown",
   "id": "59099ece-7903-4fa7-9a81-13a3dc0fbfd7",
   "metadata": {},
   "source": [
    "* Q2:-"
   ]
  },
  {
   "cell_type": "markdown",
   "id": "4143113c-2cfa-4dc6-bb8e-0cb6111ba209",
   "metadata": {},
   "source": [
    "Answer: Variable is like a container that holds data. Creating a variable is like creating a placeholder in memory and assigning it some value.    \n",
    "To declare and assing variable, first we name a variable and then we assign values using '=' operator.   \n",
    "e.g- a=2, here 'a' is variable and '2' is value"
   ]
  },
  {
   "cell_type": "markdown",
   "id": "745430ab-1469-4faf-9f4b-2695884122cb",
   "metadata": {},
   "source": [
    "* Q3:-"
   ]
  },
  {
   "cell_type": "markdown",
   "id": "1bf0e823-ea55-4ca2-afb4-a2b8ff2feee1",
   "metadata": {},
   "source": [
    "Answe:- To convert between data types, we can simply use the type name as a function. There are several built-in functions to perform conversion from one data type to another. These functions return a new object representing the converted value."
   ]
  },
  {
   "cell_type": "code",
   "execution_count": 13,
   "id": "8afe623e-2bc1-4b8f-9a12-aec9a2fc1097",
   "metadata": {},
   "outputs": [
    {
     "name": "stdout",
     "output_type": "stream",
     "text": [
      "<class 'int'>\n",
      "<class 'str'>\n"
     ]
    }
   ],
   "source": [
    "# For e.g\n",
    "a=25 # here 25 is int type date\n",
    "b= str(a) # after using 'str()' function 25 is converted from int to string type data. \n",
    "print(type(a))\n",
    "print(type(b))"
   ]
  },
  {
   "cell_type": "markdown",
   "id": "24c901ed-6186-47d8-9a70-79452709eefd",
   "metadata": {},
   "source": [
    "* Q4:-"
   ]
  },
  {
   "cell_type": "markdown",
   "id": "fb46faa2-8670-4316-90d8-f5d4ebd9721a",
   "metadata": {},
   "source": [
    "Answer- To run Python scripts from the command line.\n",
    "\n",
    "-  First verify terminal or command prompt can run Python\n",
    "-  Create a Python script that is error-free\n",
    "-  Use 'python your/file/name.py' to run your script from the terminal"
   ]
  },
  {
   "cell_type": "markdown",
   "id": "39ccf4b6-6844-4cc2-9034-3bf1e5022899",
   "metadata": {},
   "source": [
    "* Q5:-"
   ]
  },
  {
   "cell_type": "code",
   "execution_count": 18,
   "id": "c424d8fd-117b-4578-adc0-a3cb4542b1a8",
   "metadata": {},
   "outputs": [
    {
     "data": {
      "text/plain": [
       "[2, 3]"
      ]
     },
     "execution_count": 18,
     "metadata": {},
     "output_type": "execute_result"
    }
   ],
   "source": [
    "# Answer-\n",
    "my_list = [1, 2, 3, 4, 5]\n",
    "my_list[1:3]"
   ]
  },
  {
   "cell_type": "markdown",
   "id": "24490c85-e7a2-487d-b15c-542fd87b7418",
   "metadata": {},
   "source": [
    "* Q6:-"
   ]
  },
  {
   "cell_type": "markdown",
   "id": "8148bf60-af07-4344-8fd9-8fd1fe73af14",
   "metadata": {},
   "source": [
    "Answer:- In mathematics, a complex number is an element of a number system that extends the real numbers with a specific element denoted i, called the imaginary unit complex number can be expressed in the form a + bi, where a and b are real numbers.  \n",
    "In python complex number is represented as a+bj, where a and b are real numbers."
   ]
  },
  {
   "cell_type": "markdown",
   "id": "6f41b9e7-23da-4dc2-8395-4c7206013162",
   "metadata": {},
   "source": [
    "* Q7:-"
   ]
  },
  {
   "cell_type": "code",
   "execution_count": 21,
   "id": "0f94077c-600d-4a49-87b1-50384695582a",
   "metadata": {},
   "outputs": [],
   "source": [
    "# Answer- The correct way is\n",
    "Age = 25"
   ]
  },
  {
   "cell_type": "markdown",
   "id": "14204719-eab1-44b9-9287-9417667c218e",
   "metadata": {},
   "source": [
    "* Q8:-"
   ]
  },
  {
   "cell_type": "code",
   "execution_count": 22,
   "id": "14854eac-f7a6-4327-ab30-8ac3cc7dbfd6",
   "metadata": {},
   "outputs": [
    {
     "data": {
      "text/plain": [
       "float"
      ]
     },
     "execution_count": 22,
     "metadata": {},
     "output_type": "execute_result"
    }
   ],
   "source": [
    "# Answer:- \n",
    "price= 9.99 # it belongs to float data type \n",
    "type(price)"
   ]
  },
  {
   "cell_type": "markdown",
   "id": "acd4dd3c-0b9f-4617-be8f-ee96046ce5b8",
   "metadata": {},
   "source": [
    "* Q9:-"
   ]
  },
  {
   "cell_type": "code",
   "execution_count": 24,
   "id": "e16c10d9-5262-4a43-ae70-8a746782c46f",
   "metadata": {},
   "outputs": [
    {
     "name": "stdout",
     "output_type": "stream",
     "text": [
      "Dibyajyoti Acharjee\n"
     ]
    }
   ],
   "source": [
    "Answer:-\n",
    "x= \"Dibyajyoti Acharjee\"  # value can be printed by putting variable inside print function\n",
    "print(x)"
   ]
  },
  {
   "cell_type": "markdown",
   "id": "20f6251b-79f9-41e0-a267-83a3f80efc75",
   "metadata": {},
   "source": [
    "* Q10:-"
   ]
  },
  {
   "cell_type": "code",
   "execution_count": 33,
   "id": "354b3b33-8e70-4401-9de3-71f7bde1cb16",
   "metadata": {},
   "outputs": [
    {
     "data": {
      "text/plain": [
       "'World'"
      ]
     },
     "execution_count": 33,
     "metadata": {},
     "output_type": "execute_result"
    }
   ],
   "source": [
    "# Answer:-\n",
    "s= 'Hello, World'\n",
    "s[7:12]"
   ]
  },
  {
   "cell_type": "markdown",
   "id": "5cd74aa2-3cb6-4410-8561-c2de4c344b59",
   "metadata": {},
   "source": [
    "* Q11"
   ]
  },
  {
   "cell_type": "code",
   "execution_count": 93,
   "id": "b57791e0-4b0c-4f47-ad91-d2b16a48fb0b",
   "metadata": {},
   "outputs": [
    {
     "name": "stdin",
     "output_type": "stream",
     "text": [
      " true\n"
     ]
    },
    {
     "name": "stdout",
     "output_type": "stream",
     "text": [
      "you are currently a student\n"
     ]
    }
   ],
   "source": [
    "# Answer:-\n",
    "is_student= input()\n",
    "if is_student.capitalize()== 'True':\n",
    "    print('you are currently a student')\n",
    "else:\n",
    "    print('you are currently not a student')"
   ]
  }
 ],
 "metadata": {
  "kernelspec": {
   "display_name": "Python 3 (ipykernel)",
   "language": "python",
   "name": "python3"
  },
  "language_info": {
   "codemirror_mode": {
    "name": "ipython",
    "version": 3
   },
   "file_extension": ".py",
   "mimetype": "text/x-python",
   "name": "python",
   "nbconvert_exporter": "python",
   "pygments_lexer": "ipython3",
   "version": "3.10.9"
  }
 },
 "nbformat": 4,
 "nbformat_minor": 5
}
